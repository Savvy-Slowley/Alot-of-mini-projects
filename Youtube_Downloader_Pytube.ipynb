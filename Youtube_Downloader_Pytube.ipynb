{
  "nbformat": 4,
  "nbformat_minor": 0,
  "metadata": {
    "colab": {
      "name": "Youtube Downloader - Pytube.ipynb",
      "provenance": [],
      "authorship_tag": "ABX9TyMQ/CRf45DVZBvqIR1il+uD",
      "include_colab_link": true
    },
    "kernelspec": {
      "name": "python3",
      "display_name": "Python 3"
    },
    "language_info": {
      "name": "python"
    }
  },
  "cells": [
    {
      "cell_type": "markdown",
      "metadata": {
        "id": "view-in-github",
        "colab_type": "text"
      },
      "source": [
        "<a href=\"https://colab.research.google.com/github/Savvy-Slowley/Alot-of-mini-projects/blob/main/Youtube_Downloader_Pytube.ipynb\" target=\"_parent\"><img src=\"https://colab.research.google.com/assets/colab-badge.svg\" alt=\"Open In Colab\"/></a>"
      ]
    },
    {
      "cell_type": "code",
      "source": [
        "!pip install pytube"
      ],
      "metadata": {
        "colab": {
          "base_uri": "https://localhost:8080/"
        },
        "id": "MtwYGJBQ3h4u",
        "outputId": "4222bdef-37f1-4904-ad57-e6d2dd94e72a"
      },
      "execution_count": 1,
      "outputs": [
        {
          "output_type": "stream",
          "name": "stdout",
          "text": [
            "Looking in indexes: https://pypi.org/simple, https://us-python.pkg.dev/colab-wheels/public/simple/\n",
            "Requirement already satisfied: pytube in /usr/local/lib/python3.7/dist-packages (12.1.0)\n"
          ]
        }
      ]
    },
    {
      "cell_type": "code",
      "execution_count": 2,
      "metadata": {
        "id": "scyzx2Gz3M4S"
      },
      "outputs": [],
      "source": [
        "from pytube import YouTube , Playlist"
      ]
    },
    {
      "cell_type": "markdown",
      "source": [
        "# Single video"
      ],
      "metadata": {
        "id": "PW7XJ-8rsDqH"
      }
    },
    {
      "cell_type": "code",
      "source": [
        "yt = YouTube('https://www.youtube.com/watch?v=BEbVddOm2X8&list=WL&index=45&t=94s')"
      ],
      "metadata": {
        "id": "F_EkTwfm3hKN"
      },
      "execution_count": 3,
      "outputs": []
    },
    {
      "cell_type": "code",
      "source": [
        "yt.title"
      ],
      "metadata": {
        "colab": {
          "base_uri": "https://localhost:8080/",
          "height": 35
        },
        "id": "AWw2sZ3w5KDH",
        "outputId": "6dbd63fb-f5b8-4f88-d4d2-7063c853350a"
      },
      "execution_count": 4,
      "outputs": [
        {
          "output_type": "execute_result",
          "data": {
            "text/plain": [
              "'Why So Many CEOs Are Engineers'"
            ],
            "application/vnd.google.colaboratory.intrinsic+json": {
              "type": "string"
            }
          },
          "metadata": {},
          "execution_count": 4
        }
      ]
    },
    {
      "cell_type": "code",
      "source": [
        "# Streams gives you all of the streaming options\n",
        "# Filter mp4 files\n",
        "# Order by best resolution \n",
        "# Grab the first one then downlooad it\n",
        "yt.streams.filter(adaptive=True, file_extension='mp4').order_by('resolution').desc().first().download()"
      ],
      "metadata": {
        "colab": {
          "base_uri": "https://localhost:8080/",
          "height": 35
        },
        "id": "tYnQyiYJ6HDc",
        "outputId": "80981238-82ef-4c6c-c7f8-9da930a5bdaa"
      },
      "execution_count": 5,
      "outputs": [
        {
          "output_type": "execute_result",
          "data": {
            "text/plain": [
              "'/content/Why So Many CEOs Are Engineers.mp4'"
            ],
            "application/vnd.google.colaboratory.intrinsic+json": {
              "type": "string"
            }
          },
          "metadata": {},
          "execution_count": 5
        }
      ]
    },
    {
      "cell_type": "markdown",
      "source": [
        "# Playlist"
      ],
      "metadata": {
        "id": "Ha3tiV_4sHBA"
      }
    },
    {
      "cell_type": "code",
      "source": [
        "playlist = Playlist('https://www.youtube.com/playlist?list=PLgiealSjeVyxpcdc4L0jL1M9rVctDPWip')"
      ],
      "metadata": {
        "id": "K_CwC63X5S_d"
      },
      "execution_count": 6,
      "outputs": []
    },
    {
      "cell_type": "code",
      "source": [
        "playlist.title"
      ],
      "metadata": {
        "colab": {
          "base_uri": "https://localhost:8080/",
          "height": 35
        },
        "id": "EB3ShfAitJhN",
        "outputId": "5f431bfb-0a8f-466f-fe19-e67376eefec4"
      },
      "execution_count": 7,
      "outputs": [
        {
          "output_type": "execute_result",
          "data": {
            "text/plain": [
              "'Build a Raspberry Pi Drone with Emlid Navio2'"
            ],
            "application/vnd.google.colaboratory.intrinsic+json": {
              "type": "string"
            }
          },
          "metadata": {},
          "execution_count": 7
        }
      ]
    },
    {
      "cell_type": "code",
      "source": [
        "print('Number of videos in playlist: %s' % len(playlist.video_urls))"
      ],
      "metadata": {
        "colab": {
          "base_uri": "https://localhost:8080/"
        },
        "id": "Baup6Nb7sB91",
        "outputId": "28c6e89a-a994-4856-aa12-7e50ba05d904"
      },
      "execution_count": 8,
      "outputs": [
        {
          "output_type": "stream",
          "name": "stdout",
          "text": [
            "Number of videos in playlist: 29\n"
          ]
        }
      ]
    },
    {
      "cell_type": "code",
      "source": [
        "for url in playlist.video_urls[:3]:\n",
        "     print(url)"
      ],
      "metadata": {
        "colab": {
          "base_uri": "https://localhost:8080/"
        },
        "id": "4Yb0PtO9u4y4",
        "outputId": "2f78f1e4-0c16-4ac6-a0b0-522063cae38e"
      },
      "execution_count": 9,
      "outputs": [
        {
          "output_type": "stream",
          "name": "stdout",
          "text": [
            "https://www.youtube.com/watch?v=D6bHTehnJaA\n",
            "https://www.youtube.com/watch?v=4h9vHQmpAqU\n",
            "https://www.youtube.com/watch?v=W_8Pr8Ii51U\n"
          ]
        }
      ]
    },
    {
      "cell_type": "code",
      "source": [
        "for video in playlist.videos:\n",
        "     video.streams.filter(progressive=True, file_extension='mp4').order_by('resolution').desc().first().download()"
      ],
      "metadata": {
        "id": "gqrllwEIsd41"
      },
      "execution_count": 10,
      "outputs": []
    },
    {
      "cell_type": "markdown",
      "source": [
        "# Music"
      ],
      "metadata": {
        "id": "-c_T07dR4eyw"
      }
    },
    {
      "cell_type": "code",
      "source": [
        "music = YouTube('https://www.youtube.com/watch?v=BOx3nqWBe1c')"
      ],
      "metadata": {
        "id": "i_GoOseB4imO"
      },
      "execution_count": 11,
      "outputs": []
    },
    {
      "cell_type": "code",
      "source": [
        "music.title"
      ],
      "metadata": {
        "colab": {
          "base_uri": "https://localhost:8080/",
          "height": 35
        },
        "id": "ovGZqLQB-zmZ",
        "outputId": "d8f0cd28-3a5b-43e7-e56c-ad7fa1f6ef07"
      },
      "execution_count": 12,
      "outputs": [
        {
          "output_type": "execute_result",
          "data": {
            "text/plain": [
              "\"Kabaka Pyramid - Can't Breathe (Official Video)\""
            ],
            "application/vnd.google.colaboratory.intrinsic+json": {
              "type": "string"
            }
          },
          "metadata": {},
          "execution_count": 12
        }
      ]
    },
    {
      "cell_type": "code",
      "source": [
        "music.streams.filter(only_audio=True, file_extension='mp4').first().download()"
      ],
      "metadata": {
        "colab": {
          "base_uri": "https://localhost:8080/",
          "height": 35
        },
        "id": "zYIXigh1-1ce",
        "outputId": "437d4f52-572f-4d83-fb17-25e0eb233943"
      },
      "execution_count": 13,
      "outputs": [
        {
          "output_type": "execute_result",
          "data": {
            "text/plain": [
              "'/content/Kabaka Pyramid - Cant Breathe (Official Video).mp4'"
            ],
            "application/vnd.google.colaboratory.intrinsic+json": {
              "type": "string"
            }
          },
          "metadata": {},
          "execution_count": 13
        }
      ]
    }
  ]
}